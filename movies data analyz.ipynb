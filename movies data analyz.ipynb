{
 "cells": [
  {
   "cell_type": "code",
   "execution_count": 5,
   "id": "02c595d6",
   "metadata": {},
   "outputs": [],
   "source": [
    "import pandas as pd\n",
    "import numpy as np\n",
    "import random"
   ]
  },
  {
   "cell_type": "code",
   "execution_count": 6,
   "id": "b5dc9253",
   "metadata": {},
   "outputs": [],
   "source": [
    "\n",
    "data = pd.read_csv(\"adventuredataset.csv\")"
   ]
  },
  {
   "cell_type": "code",
   "execution_count": 7,
   "id": "5745ab07",
   "metadata": {},
   "outputs": [
    {
     "data": {
      "text/html": [
       "<div>\n",
       "<style scoped>\n",
       "    .dataframe tbody tr th:only-of-type {\n",
       "        vertical-align: middle;\n",
       "    }\n",
       "\n",
       "    .dataframe tbody tr th {\n",
       "        vertical-align: top;\n",
       "    }\n",
       "\n",
       "    .dataframe thead th {\n",
       "        text-align: right;\n",
       "    }\n",
       "</style>\n",
       "<table border=\"1\" class=\"dataframe\">\n",
       "  <thead>\n",
       "    <tr style=\"text-align: right;\">\n",
       "      <th></th>\n",
       "      <th>Movie_ID</th>\n",
       "      <th>Title</th>\n",
       "      <th>Year</th>\n",
       "      <th>Genre</th>\n",
       "      <th>Director</th>\n",
       "      <th>Budget_Million</th>\n",
       "      <th>BoxOffice_Million</th>\n",
       "      <th>Runtime_Minutes</th>\n",
       "      <th>Rating</th>\n",
       "      <th>Award_Won</th>\n",
       "    </tr>\n",
       "  </thead>\n",
       "  <tbody>\n",
       "    <tr>\n",
       "      <th>0</th>\n",
       "      <td>MOV000001</td>\n",
       "      <td>Adventure Film 1</td>\n",
       "      <td>2018</td>\n",
       "      <td>Adventure</td>\n",
       "      <td>Director A</td>\n",
       "      <td>82.078031</td>\n",
       "      <td>441.753825</td>\n",
       "      <td>114.155228</td>\n",
       "      <td>5.0</td>\n",
       "      <td>Yes</td>\n",
       "    </tr>\n",
       "    <tr>\n",
       "      <th>1</th>\n",
       "      <td>MOV000002</td>\n",
       "      <td>Adventure Film 2</td>\n",
       "      <td>2008</td>\n",
       "      <td>Adventure</td>\n",
       "      <td>Director A</td>\n",
       "      <td>108.957053</td>\n",
       "      <td>86.884441</td>\n",
       "      <td>114.693611</td>\n",
       "      <td>4.7</td>\n",
       "      <td>Yes</td>\n",
       "    </tr>\n",
       "    <tr>\n",
       "      <th>2</th>\n",
       "      <td>MOV000003</td>\n",
       "      <td>Adventure Film 3</td>\n",
       "      <td>1994</td>\n",
       "      <td>Adventure</td>\n",
       "      <td>Director C</td>\n",
       "      <td>37.795688</td>\n",
       "      <td>87.241374</td>\n",
       "      <td>113.393664</td>\n",
       "      <td>9.7</td>\n",
       "      <td>No</td>\n",
       "    </tr>\n",
       "    <tr>\n",
       "      <th>3</th>\n",
       "      <td>MOV000004</td>\n",
       "      <td>Adventure Film 4</td>\n",
       "      <td>2022</td>\n",
       "      <td>Sci-Fi</td>\n",
       "      <td>Director D</td>\n",
       "      <td>120.161778</td>\n",
       "      <td>231.401774</td>\n",
       "      <td>106.589559</td>\n",
       "      <td>6.3</td>\n",
       "      <td>No</td>\n",
       "    </tr>\n",
       "    <tr>\n",
       "      <th>4</th>\n",
       "      <td>MOV000005</td>\n",
       "      <td>Adventure Film 5</td>\n",
       "      <td>1987</td>\n",
       "      <td>Adventure</td>\n",
       "      <td>Director C</td>\n",
       "      <td>132.718911</td>\n",
       "      <td>70.943526</td>\n",
       "      <td>142.044640</td>\n",
       "      <td>6.5</td>\n",
       "      <td>Yes</td>\n",
       "    </tr>\n",
       "  </tbody>\n",
       "</table>\n",
       "</div>"
      ],
      "text/plain": [
       "    Movie_ID             Title  Year      Genre    Director  Budget_Million  \\\n",
       "0  MOV000001  Adventure Film 1  2018  Adventure  Director A       82.078031   \n",
       "1  MOV000002  Adventure Film 2  2008  Adventure  Director A      108.957053   \n",
       "2  MOV000003  Adventure Film 3  1994  Adventure  Director C       37.795688   \n",
       "3  MOV000004  Adventure Film 4  2022     Sci-Fi  Director D      120.161778   \n",
       "4  MOV000005  Adventure Film 5  1987  Adventure  Director C      132.718911   \n",
       "\n",
       "   BoxOffice_Million  Runtime_Minutes  Rating Award_Won  \n",
       "0         441.753825       114.155228     5.0       Yes  \n",
       "1          86.884441       114.693611     4.7       Yes  \n",
       "2          87.241374       113.393664     9.7        No  \n",
       "3         231.401774       106.589559     6.3        No  \n",
       "4          70.943526       142.044640     6.5       Yes  "
      ]
     },
     "execution_count": 7,
     "metadata": {},
     "output_type": "execute_result"
    }
   ],
   "source": [
    "data.head()"
   ]
  },
  {
   "cell_type": "code",
   "execution_count": 7,
   "id": "85152b94",
   "metadata": {},
   "outputs": [
    {
     "name": "stdout",
     "output_type": "stream",
     "text": [
      "<class 'pandas.core.frame.DataFrame'>\n",
      "RangeIndex: 80000 entries, 0 to 79999\n",
      "Data columns (total 10 columns):\n",
      " #   Column             Non-Null Count  Dtype  \n",
      "---  ------             --------------  -----  \n",
      " 0   Movie_ID           80000 non-null  object \n",
      " 1   Title              80000 non-null  object \n",
      " 2   Year               80000 non-null  int64  \n",
      " 3   Genre              80000 non-null  object \n",
      " 4   Director           80000 non-null  object \n",
      " 5   Budget_Million     80000 non-null  float64\n",
      " 6   BoxOffice_Million  80000 non-null  float64\n",
      " 7   Runtime_Minutes    80000 non-null  float64\n",
      " 8   Rating             80000 non-null  float64\n",
      " 9   Award_Won          80000 non-null  object \n",
      "dtypes: float64(4), int64(1), object(5)\n",
      "memory usage: 6.1+ MB\n",
      "None\n"
     ]
    }
   ],
   "source": [
    "\n",
    "print(data.info())"
   ]
  },
  {
   "cell_type": "code",
   "execution_count": 8,
   "id": "2d9470e5",
   "metadata": {},
   "outputs": [
    {
     "name": "stdout",
     "output_type": "stream",
     "text": [
      "               Year  Budget_Million  BoxOffice_Million  Runtime_Minutes  \\\n",
      "count  80000.000000    80000.000000       80000.000000     80000.000000   \n",
      "mean    2001.509425      100.703075         200.406060       126.957796   \n",
      "std       12.660702       48.357263          97.593747        14.465309   \n",
      "min     1980.000000       10.000000           5.000000        80.000000   \n",
      "25%     1991.000000       66.286950         132.262816       116.967810   \n",
      "50%     2002.000000      100.072418         199.069221       126.128505   \n",
      "75%     2012.000000      133.697708         266.389786       136.303363   \n",
      "max     2023.000000      289.109392         621.936634       180.000000   \n",
      "\n",
      "             Rating  \n",
      "count  80000.000000  \n",
      "mean       5.498771  \n",
      "std        2.593778  \n",
      "min        1.000000  \n",
      "25%        3.300000  \n",
      "50%        5.500000  \n",
      "75%        7.700000  \n",
      "max       10.000000  \n"
     ]
    }
   ],
   "source": [
    "\n",
    "print(data.describe())"
   ]
  },
  {
   "cell_type": "code",
   "execution_count": 8,
   "id": "fa9f1e4b",
   "metadata": {},
   "outputs": [
    {
     "name": "stdout",
     "output_type": "stream",
     "text": [
      "Genre\n",
      "Adventure    56110\n",
      "Sci-Fi        8021\n",
      "Fantasy       7951\n",
      "Action        7918\n",
      "Name: count, dtype: int64\n"
     ]
    }
   ],
   "source": [
    "\n",
    "print(data[\"Genre\"].value_counts())"
   ]
  },
  {
   "cell_type": "code",
   "execution_count": 9,
   "id": "b39f411c",
   "metadata": {},
   "outputs": [
    {
     "name": "stdout",
     "output_type": "stream",
     "text": [
      "Average Box Office Revenue (Million USD): 200.40606034174928\n"
     ]
    }
   ],
   "source": [
    "\n",
    "print(\"Average Box Office Revenue (Million USD):\"\n",
    "      , data[\"BoxOffice_Million\"].mean())"
   ]
  },
  {
   "cell_type": "code",
   "execution_count": 10,
   "id": "2e65f8d1",
   "metadata": {},
   "outputs": [
    {
     "name": "stdout",
     "output_type": "stream",
     "text": [
      "Maximum Budget (Million USD): 289.10939244983206\n",
      "        Movie_ID                 Title  Year      Genre    Director  \\\n",
      "36373  MOV036374  Adventure Film 36374  2020  Adventure  Director A   \n",
      "\n",
      "       Budget_Million  BoxOffice_Million  Runtime_Minutes  Rating Award_Won  \n",
      "36373      289.109392         243.903081        116.06643     1.3        No  \n"
     ]
    }
   ],
   "source": [
    "\n",
    "max_budget = data[\"Budget_Million\"].max()\n",
    "print(\"Maximum Budget (Million USD):\", max_budget)\n",
    "print(data[data[\"Budget_Million\"] == max_budget])"
   ]
  },
  {
   "cell_type": "code",
   "execution_count": 11,
   "id": "9d0f7598",
   "metadata": {},
   "outputs": [
    {
     "name": "stdout",
     "output_type": "stream",
     "text": [
      "Movies with Awards:\n",
      "Award_Won\n",
      "No     56148\n",
      "Yes    23852\n",
      "Name: count, dtype: int64\n"
     ]
    }
   ],
   "source": [
    "\n",
    "award_count = data[\"Award_Won\"].value_counts()\n",
    "print(\"Movies with Awards:\")\n",
    "print(award_count)"
   ]
  },
  {
   "cell_type": "code",
   "execution_count": 13,
   "id": "c67ed69f",
   "metadata": {},
   "outputs": [
    {
     "name": "stdout",
     "output_type": "stream",
     "text": [
      "Median Runtime (Minutes): 126.12850455408491\n"
     ]
    }
   ],
   "source": [
    "\n",
    "print(\"Median Runtime (Minutes):\", data[\"Runtime_Minutes\"].median())"
   ]
  },
  {
   "cell_type": "code",
   "execution_count": 12,
   "id": "2985eeed",
   "metadata": {},
   "outputs": [
    {
     "name": "stdout",
     "output_type": "stream",
     "text": [
      "Correlation between Budget and Box Office Revenue: 0.0004596886358127435\n"
     ]
    }
   ],
   "source": [
    "\n",
    "correlation = data[\"Budget_Million\"].corr(data[\"BoxOffice_Million\"])\n",
    "print(\"Correlation between Budget and Box Office Revenue:\", correlation)"
   ]
  },
  {
   "cell_type": "code",
   "execution_count": 13,
   "id": "ff8ec787",
   "metadata": {},
   "outputs": [
    {
     "name": "stdout",
     "output_type": "stream",
     "text": [
      "Top 5 Directors by Movie Count:\n",
      "Director\n",
      "Director E    16051\n",
      "Director B    16050\n",
      "Director D    16007\n",
      "Director C    15992\n",
      "Director A    15900\n",
      "Name: count, dtype: int64\n"
     ]
    }
   ],
   "source": [
    "\n",
    "top_directors = data[\"Director\"].value_counts().head(5)\n",
    "print(\"Top 5 Directors by Movie Count:\")\n",
    "print(top_directors)"
   ]
  },
  {
   "cell_type": "code",
   "execution_count": 14,
   "id": "dc4e8e74",
   "metadata": {},
   "outputs": [
    {
     "name": "stdout",
     "output_type": "stream",
     "text": [
      "Year with Highest Average Box Office Revenue: 2012\n",
      "Highest Average Revenue (Million USD): 205.1806124573583\n"
     ]
    }
   ],
   "source": [
    "\n",
    "yearly_revenue = data.groupby(\"Year\")[\"BoxOffice_Million\"].mean()\n",
    "highest_year = yearly_revenue.idxmax()\n",
    "highest_revenue = yearly_revenue.max()\n",
    "print(\"Year with Highest Average Box Office Revenue:\", highest_year)\n",
    "print(\"Highest Average Revenue (Million USD):\", highest_revenue)"
   ]
  },
  {
   "cell_type": "code",
   "execution_count": 15,
   "id": "50b9046d",
   "metadata": {},
   "outputs": [
    {
     "name": "stdout",
     "output_type": "stream",
     "text": [
      "Rating Distribution:\n",
      "(0.99, 1.9]    8340\n",
      "(1.9, 2.8]     8038\n",
      "(2.8, 3.7]     8126\n",
      "(3.7, 4.6]     8009\n",
      "(4.6, 5.5]     8007\n",
      "(5.5, 6.4]     7985\n",
      "(6.4, 7.3]     8044\n",
      "(7.3, 8.2]     7919\n",
      "(8.2, 9.1]     7990\n",
      "(9.1, 10.0]    7542\n",
      "Name: count, dtype: int64\n"
     ]
    }
   ],
   "source": [
    "\n",
    "print(\"Rating Distribution:\")\n",
    "print(data[\"Rating\"].value_counts(bins=10, sort=False))"
   ]
  },
  {
   "cell_type": "code",
   "execution_count": 18,
   "id": "c1ee10a2",
   "metadata": {},
   "outputs": [
    {
     "name": "stdout",
     "output_type": "stream",
     "text": [
      "Percentage of Movies by Genre:\n",
      "Genre\n",
      "Adventure    70.13750\n",
      "Sci-Fi       10.02625\n",
      "Fantasy       9.93875\n",
      "Action        9.89750\n",
      "Name: proportion, dtype: float64\n"
     ]
    }
   ],
   "source": [
    "\n",
    "genre_percentage = data[\"Genre\"].value_counts(normalize=True) * 100\n",
    "print(\"Percentage of Movies by Genre:\")\n",
    "print(genre_percentage)"
   ]
  },
  {
   "cell_type": "code",
   "execution_count": 16,
   "id": "1a45f1fd",
   "metadata": {},
   "outputs": [
    {
     "name": "stdout",
     "output_type": "stream",
     "text": [
      "Percentage of Movies Winning Awards: 29.815\n"
     ]
    }
   ],
   "source": [
    "\n",
    "award_percentage = (data[\"Award_Won\"].value_counts(normalize=True) * 100).loc[\"Yes\"]\n",
    "print(\"Percentage of Movies Winning Awards:\", award_percentage)"
   ]
  },
  {
   "cell_type": "code",
   "execution_count": 5,
   "id": "0195186b",
   "metadata": {},
   "outputs": [
    {
     "name": "stdout",
     "output_type": "stream",
     "text": [
      "Genre-wise Award-Winning Movie Counts:\n",
      "Genre\n",
      "Action        2504\n",
      "Adventure    16585\n",
      "Fantasy       2363\n",
      "Sci-Fi        2400\n",
      "dtype: int64\n"
     ]
    }
   ],
   "source": [
    "\n",
    "print(\"Genre-wise Award-Winning Movie Counts:\")\n",
    "print(data[data[\"Award_Won\"] == \"Yes\"].groupby(\"Genre\").size())"
   ]
  },
  {
   "cell_type": "code",
   "execution_count": 6,
   "id": "db04d1e4",
   "metadata": {},
   "outputs": [
    {
     "name": "stdout",
     "output_type": "stream",
     "text": [
      "Correlation between Runtime and Rating: -0.007358217930980107\n"
     ]
    }
   ],
   "source": [
    "\n",
    "runtime_rating_corr = data[\"Runtime_Minutes\"].corr(data[\"Rating\"])\n",
    "print(\"Correlation between Runtime and Rating:\", runtime_rating_corr)"
   ]
  },
  {
   "cell_type": "code",
   "execution_count": 17,
   "id": "ee058ccf",
   "metadata": {},
   "outputs": [
    {
     "name": "stdout",
     "output_type": "stream",
     "text": [
      "Box Office Revenue Range Segmentation:\n",
      "Revenue_Range\n",
      "Moderate       54669\n",
      "Low            12690\n",
      "High           12640\n",
      "Blockbuster        1\n",
      "Name: count, dtype: int64\n"
     ]
    }
   ],
   "source": [
    "\n",
    "print(\"Box Office Revenue Range Segmentation:\")\n",
    "data[\"Revenue_Range\"] = pd.cut(data[\"BoxOffice_Million\"], bins=[0, 100, 300, 600, 1000], labels=[\"Low\", \n",
    "                                                                                        \"Moderate\", \"High\", \"Blockbuster\"])\n",
    "print(data[\"Revenue_Range\"].value_counts())"
   ]
  },
  {
   "cell_type": "code",
   "execution_count": 18,
   "id": "db963537",
   "metadata": {},
   "outputs": [
    {
     "name": "stdout",
     "output_type": "stream",
     "text": [
      "Top Director-Genre Pairs by Average Box Office Revenue:\n",
      "Director    Genre    \n",
      "Director E  Fantasy      207.204179\n",
      "Director A  Action       205.251794\n",
      "            Fantasy      204.438640\n",
      "Director D  Action       204.294007\n",
      "Director C  Fantasy      203.523128\n",
      "Director D  Sci-Fi       202.476883\n",
      "Director B  Sci-Fi       202.241365\n",
      "Director D  Adventure    201.721351\n",
      "Director C  Sci-Fi       201.277750\n",
      "Director A  Adventure    200.862617\n",
      "Name: BoxOffice_Million, dtype: float64\n"
     ]
    }
   ],
   "source": [
    "\n",
    "print(\"Top Director-Genre Pairs by Average Box Office Revenue:\")\n",
    "director_genre_pairs = data.groupby([\"Director\", \"Genre\"])[\"BoxOffice_Million\"].mean().sort_values(ascending=False).head(10)\n",
    "print(director_genre_pairs)"
   ]
  },
  {
   "cell_type": "code",
   "execution_count": 24,
   "id": "3bd4442e",
   "metadata": {},
   "outputs": [
    {
     "name": "stdout",
     "output_type": "stream",
     "text": [
      "Award-Winning Trends Over Years:\n",
      "Year\n",
      "1980    559\n",
      "1981    538\n",
      "1982    575\n",
      "1983    547\n",
      "1984    555\n",
      "1985    529\n",
      "1986    529\n",
      "1987    532\n",
      "1988    534\n",
      "1989    549\n",
      "1990    534\n",
      "1991    540\n",
      "1992    571\n",
      "1993    531\n",
      "1994    525\n",
      "1995    537\n",
      "1996    602\n",
      "1997    551\n",
      "1998    574\n",
      "1999    519\n",
      "2000    540\n",
      "2001    536\n",
      "2002    606\n",
      "2003    545\n",
      "2004    522\n",
      "2005    598\n",
      "2006    540\n",
      "2007    591\n",
      "2008    525\n",
      "2009    539\n",
      "2010    519\n",
      "2011    533\n",
      "2012    500\n",
      "2013    537\n",
      "2014    493\n",
      "2015    578\n",
      "2016    532\n",
      "2017    528\n",
      "2018    537\n",
      "2019    513\n",
      "2020    527\n",
      "2021    529\n",
      "2022    496\n",
      "2023    557\n",
      "dtype: int64\n"
     ]
    }
   ],
   "source": [
    "\n",
    "print(\"Award-Winning Trends Over Years:\")\n",
    "award_trend = data[data[\"Award_Won\"] == \"Yes\"].groupby(\"Year\").size()\n",
    "print(award_trend)"
   ]
  },
  {
   "cell_type": "code",
   "execution_count": 19,
   "id": "821cae4d",
   "metadata": {},
   "outputs": [
    {
     "name": "stdout",
     "output_type": "stream",
     "text": [
      "Budget Outliers Analysis:\n",
      "Number of Budget Outliers: 264\n"
     ]
    }
   ],
   "source": [
    "# Analyzing budget outliers\n",
    "print(\"Budget Outliers Analysis:\")\n",
    "q1 = data[\"Budget_Million\"].quantile(0.25)\n",
    "q3 = data[\"Budget_Million\"].quantile(0.75)\n",
    "iqr = q3 - q1\n",
    "outliers = data[(data[\"Budget_Million\"] < (q1 - 1.5 * iqr)) | (data[\"Budget_Million\"] > (q3 + 1.5 * iqr))]\n",
    "print(\"Number of Budget Outliers:\", len(outliers))"
   ]
  },
  {
   "cell_type": "code",
   "execution_count": 20,
   "id": "d3d00d2f",
   "metadata": {},
   "outputs": [
    {
     "name": "stdout",
     "output_type": "stream",
     "text": [
      "Rating Distribution by Genre:\n",
      "             count      mean       std  min  25%  50%  75%   max\n",
      "Genre                                                           \n",
      "Action      7918.0  5.540566  2.586453  1.0  3.3  5.6  7.8  10.0\n",
      "Adventure  56110.0  5.492836  2.596140  1.0  3.2  5.5  7.7  10.0\n",
      "Fantasy     7951.0  5.457024  2.584686  1.0  3.3  5.4  7.7  10.0\n",
      "Sci-Fi      8021.0  5.540419  2.592894  1.0  3.3  5.6  7.8  10.0\n"
     ]
    }
   ],
   "source": [
    "# Rating distribution analysis by genre\n",
    "print(\"Rating Distribution by Genre:\")\n",
    "print(data.groupby(\"Genre\")[\"Rating\"].describe())"
   ]
  },
  {
   "cell_type": "code",
   "execution_count": 21,
   "id": "d4e4f327",
   "metadata": {},
   "outputs": [
    {
     "name": "stdout",
     "output_type": "stream",
     "text": [
      "Runtime Impact on Box Office Revenue:\n",
      "Correlation between Runtime and Box Office Revenue: -0.002474423353551728\n"
     ]
    }
   ],
   "source": [
    "\n",
    "print(\"Runtime Impact on Box Office Revenue:\")\n",
    "runtime_revenue_corr = data[\"Runtime_Minutes\"].corr(data[\"BoxOffice_Million\"])\n",
    "print(\"Correlation between Runtime and Box Office Revenue:\", runtime_revenue_corr)"
   ]
  },
  {
   "cell_type": "code",
   "execution_count": 28,
   "id": "488366c1",
   "metadata": {},
   "outputs": [
    {
     "name": "stdout",
     "output_type": "stream",
     "text": [
      "Box Office Performance by Decade:\n",
      "Decade\n",
      "1980    200.347302\n",
      "1990    200.740989\n",
      "2000    200.091444\n",
      "2010    200.823270\n",
      "2020    199.472841\n",
      "Name: BoxOffice_Million, dtype: float64\n"
     ]
    }
   ],
   "source": [
    "\n",
    "print(\"Box Office Performance by Decade:\")\n",
    "data[\"Decade\"] = (data[\"Year\"] // 10) * 10\n",
    "decade_performance = data.groupby(\"Decade\")[\"BoxOffice_Million\"].mean()\n",
    "print(decade_performance)"
   ]
  },
  {
   "cell_type": "code",
   "execution_count": 22,
   "id": "4bf2d591",
   "metadata": {},
   "outputs": [
    {
     "name": "stdout",
     "output_type": "stream",
     "text": [
      "Most Common Budget Range:\n",
      "Budget_Range\n",
      "High         38253\n",
      "Moderate     27278\n",
      "Low          12674\n",
      "Very High     1795\n",
      "Name: count, dtype: int64\n"
     ]
    }
   ],
   "source": [
    "\n",
    "print(\"Most Common Budget Range:\")\n",
    "data[\"Budget_Range\"] = pd.cut(data[\"Budget_Million\"], bins=[0, 50, 100, 200, 300], labels=[\"Low\",\n",
    "                                                                                           \"Moderate\", \"High\", \"Very High\"])\n",
    "print(data[\"Budget_Range\"].value_counts())"
   ]
  },
  {
   "cell_type": "code",
   "execution_count": 50,
   "id": "b2e458cf",
   "metadata": {},
   "outputs": [],
   "source": [
    "from sklearn.linear_model import LogisticRegression\n",
    "from sklearn.metrics import accuracy_score, confusion_matrix"
   ]
  },
  {
   "cell_type": "code",
   "execution_count": 51,
   "id": "63f6d16a",
   "metadata": {},
   "outputs": [],
   "source": [
    "\n",
    "X_class = data['Rating']  # Features for classification\n",
    "y_class = data['Award_Won']  # Target variable (binary)"
   ]
  },
  {
   "cell_type": "code",
   "execution_count": 52,
   "id": "c7591f30",
   "metadata": {},
   "outputs": [
    {
     "name": "stdout",
     "output_type": "stream",
     "text": [
      "Model Accuracy: 0.55\n",
      "\n",
      "Classification Report:\n",
      "              precision    recall  f1-score   support\n",
      "\n",
      "           0       0.67      0.20      0.31        10\n",
      "           1       0.53      0.90      0.67        10\n",
      "\n",
      "    accuracy                           0.55        20\n",
      "   macro avg       0.60      0.55      0.49        20\n",
      "weighted avg       0.60      0.55      0.49        20\n",
      "\n",
      "\n",
      "Model Coefficients: [[-0.33991252  0.57538815  0.00959808]]\n",
      "Model Intercept: [0.0699518]\n"
     ]
    }
   ],
   "source": [
    "\n",
    "import numpy as np\n",
    "import pandas as pd\n",
    "from sklearn.model_selection import train_test_split\n",
    "from sklearn.linear_model import LogisticRegression\n",
    "from sklearn.metrics import accuracy_score, classification_report\n",
    "\n",
    "# Generate a sample dataset (if you don't have one)\n",
    "# Assume binary classification (0 or 1)\n",
    "np.random.seed(42)\n",
    "num_samples = 100\n",
    "\n",
    "# Creating random features (X) and a binary target variable (y)\n",
    "X = np.random.rand(num_samples, 3)  # 3 features\n",
    "y = np.random.randint(0, 2, num_samples)  # Target (0 or 1)\n",
    "\n",
    "# Convert X to a DataFrame\n",
    "X = pd.DataFrame(X, columns=['Feature1', 'Feature2', 'Feature3'])\n",
    "\n",
    "# Split the dataset into training and testing sets\n",
    "X_train_class, X_test_class, y_train_class, y_test_class = train_test_split(\n",
    "    X, y, test_size=0.2, random_state=42\n",
    ")\n",
    "\n",
    "# Initialize and train the logistic regression model\n",
    "log_model = LogisticRegression()\n",
    "log_model.fit(X_train_class, y_train_class)\n",
    "\n",
    "# Make predictions\n",
    "y_pred = log_model.predict(X_test_class)\n",
    "\n",
    "# Evaluate the model\n",
    "accuracy = accuracy_score(y_test_class, y_pred)\n",
    "print(f\"Model Accuracy: {accuracy:.2f}\")\n",
    "\n",
    "# Print detailed classification report\n",
    "print(\"\\nClassification Report:\")\n",
    "print(classification_report(y_test_class, y_pred))\n",
    "\n",
    "# Print model coefficients and intercept\n",
    "print(\"\\nModel Coefficients:\", log_model.coef_)\n",
    "print(\"Model Intercept:\", log_model.intercept_)\n"
   ]
  },
  {
   "cell_type": "code",
   "execution_count": 55,
   "id": "5a3bc1bf",
   "metadata": {
    "scrolled": true
   },
   "outputs": [],
   "source": [
    "from sklearn.linear_model import LogisticRegression\n",
    "log_model = LogisticRegression()\n"
   ]
  },
  {
   "cell_type": "code",
   "execution_count": 49,
   "id": "b648027d",
   "metadata": {},
   "outputs": [
    {
     "data": {
      "text/plain": [
       "array([0, 1, 1, 1, 1, 1, 1, 1, 0, 1, 1, 1, 1, 1, 1, 0, 1, 1, 1, 1])"
      ]
     },
     "execution_count": 49,
     "metadata": {},
     "output_type": "execute_result"
    }
   ],
   "source": [
    "# Make predictions on the test data\n",
    "y_pred_class = log_model.predict(X_test_class)\n",
    "y_pred_class"
   ]
  },
  {
   "cell_type": "code",
   "execution_count": 56,
   "id": "0726c45d",
   "metadata": {},
   "outputs": [
    {
     "name": "stdout",
     "output_type": "stream",
     "text": [
      "Accuracy: 0.55\n",
      "Confusion Matrix:\n",
      "[[2 8]\n",
      " [1 9]]\n"
     ]
    }
   ],
   "source": [
    "# Evaluate the model performance\n",
    "accuracy = accuracy_score(y_test_class, y_pred_class)\n",
    "conf_matrix = confusion_matrix(y_test_class, y_pred_class)\n",
    "\n",
    "print(f\"Accuracy: {accuracy}\")\n",
    "print(f\"Confusion Matrix:\\n{conf_matrix}\")"
   ]
  }
 ],
 "metadata": {
  "kernelspec": {
   "display_name": "Python 3 (ipykernel)",
   "language": "python",
   "name": "python3"
  },
  "language_info": {
   "codemirror_mode": {
    "name": "ipython",
    "version": 3
   },
   "file_extension": ".py",
   "mimetype": "text/x-python",
   "name": "python",
   "nbconvert_exporter": "python",
   "pygments_lexer": "ipython3",
   "version": "3.12.7"
  }
 },
 "nbformat": 4,
 "nbformat_minor": 5
}
